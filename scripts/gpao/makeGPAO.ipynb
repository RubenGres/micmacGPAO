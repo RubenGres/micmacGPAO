{
 "cells": [
  {
   "cell_type": "code",
   "execution_count": 1,
   "metadata": {},
   "outputs": [],
   "source": [
    "class arg_parser:\n",
    "    makefile = \"/Volumes/ESPACE_TRAVAIL/GEOSOCLE/SOCLE_ALTI/S67/230206_TOGA_S67/01_MICMAC/STRUCTURE/230206_TOGA_S67_N15W002/MNT_copie/MakefileParallelisation391927_266_39_983\"\n",
    "    JSON = False\n",
    "    rule = \"all\"\n",
    "    API_URL=\"127.0.0.1\""
   ]
  },
  {
   "cell_type": "code",
   "execution_count": 2,
   "metadata": {},
   "outputs": [],
   "source": [
    "import argparse\n",
    "from pathlib import Path\n",
    "import sys\n",
    "import click\n",
    "import numpy as np\n",
    "\n",
    "from gpao.builder import Builder\n",
    "from gpao.project import Project\n",
    "from gpao.job import Job\n",
    "\n",
    "import glob\n",
    "import os\n"
   ]
  },
  {
   "cell_type": "code",
   "execution_count": 3,
   "metadata": {},
   "outputs": [],
   "source": [
    "ARGS = arg_parser()\n",
    "\n",
    "cmds = dict()\n",
    "\n",
    "with open(ARGS.makefile) as mf:\n",
    "    filename = os.path.basename(ARGS.makefile)\n",
    "    cmd = filter(lambda x : x.startswith('\\t'), mf.read().split('\\n'))\n",
    "    cmd = list(cmd)\n",
    "    cmds = [x.strip() for x in cmd]\n",
    "\n",
    "makefile = dict(\n",
    "    all=cmds\n",
    ")\n",
    "\n",
    "jobs = []\n",
    "for i, cmd in enumerate(makefile[ARGS.rule]):\n",
    "    job = Job(f'MM_{i}', cmd)\n",
    "    jobs.append(job)\n",
    "\n",
    "project = Project(1, jobs)\n",
    "\n",
    "builder = Builder([project])\n",
    "\n",
    "if(ARGS.JSON):\n",
    "    builder.save_as_json(ARGS.JSON)\n",
    "    print(f'GPAO .json file saved at {ARGS.JSON}')\n",
    "\n",
    "print(\"The program will automatically exit when all jobs in the project are done\")\n",
    "\n",
    "#TODO wait for all processes to be finished and exit(0)"
   ]
  },
  {
   "attachments": {},
   "cell_type": "markdown",
   "metadata": {},
   "source": [
    "## exemple de commande Make dans le code MicMac\n",
    "\n",
    "std::string aCom = string(\"\\\"\")+(g_externalToolHandler.get( \"makeGPAO\" ).callName())+\"\\\" \" + i_rule + \" -f \\\"\" + i_makefile + \"\\\" \" + nbJobsStr + \" \" + i_options;"
   ]
  },
  {
   "cell_type": "code",
   "execution_count": 34,
   "metadata": {},
   "outputs": [
    {
     "data": {
      "text/plain": [
       "'\"/ring57/fs.510136989126757293/IGNE/ALI_Serveur/OUTILS_IGNE/MICMAC/_Exe_Linux_Master_20211203/micmac/bin/mm3d\" MICMAC /Volumes/ESPACE_TRAVAIL/GEOSOCLE/SOCLE_ALTI/S67/230206_TOGA_S67/01_MICMAC/STRUCTURE/230206_TOGA_S67_N15W002/SORTIES_TERRAIN/_DicoT_MICMAC_5P.xml CalledByProcess=1  ByProcess=0  IdMasterProcess=391927  FirstEtapeMEC=1 LastEtapeMEC=2 FirstBoiteMEC=0 NbBoitesMEC=1'"
      ]
     },
     "execution_count": 34,
     "metadata": {},
     "output_type": "execute_result"
    }
   ],
   "source": [
    "builder.projects[0].jobs[0].command"
   ]
  }
 ],
 "metadata": {
  "kernelspec": {
   "display_name": "Python 3",
   "language": "python",
   "name": "python3"
  },
  "language_info": {
   "codemirror_mode": {
    "name": "ipython",
    "version": 3
   },
   "file_extension": ".py",
   "mimetype": "text/x-python",
   "name": "python",
   "nbconvert_exporter": "python",
   "pygments_lexer": "ipython3",
   "version": "3.9.12"
  },
  "orig_nbformat": 4,
  "vscode": {
   "interpreter": {
    "hash": "aee8b7b246df8f9039afb4144a1f6fd8d2ca17a180786b69acc140d282b71a49"
   }
  }
 },
 "nbformat": 4,
 "nbformat_minor": 2
}
